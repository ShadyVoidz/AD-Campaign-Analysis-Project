{
 "cells": [
  {
   "cell_type": "markdown",
   "id": "d384f07f-168e-4082-8234-7408fb40dc0e",
   "metadata": {},
   "source": [
    "# **Advertising Campaign Performance Dataset - Analysis Project**"
   ]
  },
  {
   "cell_type": "markdown",
   "id": "16dc05c9-6d44-4336-9908-94735e3770c8",
   "metadata": {},
   "source": [
    "# <mark> Importing Python Libraries </mark> "
   ]
  },
  {
   "cell_type": "markdown",
   "id": "0c840f92-333f-4b88-b359-c3c231a2afd3",
   "metadata": {},
   "source": [
    "Importing various libraries into projects allows easier readibility and gives us more functionality with our coding."
   ]
  },
  {
   "cell_type": "code",
   "execution_count": 12,
   "id": "97ed4813-6cf5-4160-ab6a-4ea98aaeb5f4",
   "metadata": {},
   "outputs": [],
   "source": [
    "# A large library assisting with the analyzing, manipulating, and cleaning of Datasets.\n",
    "import pandas as pd\n",
    "# Allows us to create visual representations of our results from the anaysis.\n",
    "import matplotlib.pyplot as plt\n",
    "import seaborn as sns\n",
    "# Provides functions to carry out high-level mathematics.\n",
    "import numpy as np"
   ]
  },
  {
   "cell_type": "markdown",
   "id": "df66c41b-85e5-4641-aa15-e720f8616b42",
   "metadata": {},
   "source": [
    "# <mark> Cleaning and Validating Data </mark> "
   ]
  },
  {
   "cell_type": "markdown",
   "id": "c2df2f63-df34-48b5-b8dd-716a2824fcea",
   "metadata": {},
   "source": [
    "Before we begin using and manipulating the data to answer our questions we need to make sure that the data is clean with no missing data/values and nothing inputed incorrectly. This ensures we come across less errors later on in the project."
   ]
  },
  {
   "cell_type": "markdown",
   "id": "5240c8f2-bc2a-4505-963d-2d6281ace319",
   "metadata": {},
   "source": [
    "First lets import the dataset and analysis the first 5 rows to have a feel of what we are working with!"
   ]
  },
  {
   "cell_type": "code",
   "execution_count": 16,
   "id": "e4b7770a-ec02-413d-916a-41b4592b7c87",
   "metadata": {},
   "outputs": [
    {
     "data": {
      "text/html": [
       "<div>\n",
       "<style scoped>\n",
       "    .dataframe tbody tr th:only-of-type {\n",
       "        vertical-align: middle;\n",
       "    }\n",
       "\n",
       "    .dataframe tbody tr th {\n",
       "        vertical-align: top;\n",
       "    }\n",
       "\n",
       "    .dataframe thead th {\n",
       "        text-align: right;\n",
       "    }\n",
       "</style>\n",
       "<table border=\"1\" class=\"dataframe\">\n",
       "  <thead>\n",
       "    <tr style=\"text-align: right;\">\n",
       "      <th></th>\n",
       "      <th>Campaign_ID</th>\n",
       "      <th>Budget</th>\n",
       "      <th>Duration</th>\n",
       "      <th>Platform</th>\n",
       "      <th>Content_Type</th>\n",
       "      <th>Target_Age</th>\n",
       "      <th>Target_Gender</th>\n",
       "      <th>Region</th>\n",
       "      <th>Clicks</th>\n",
       "      <th>Conversions</th>\n",
       "      <th>CTR</th>\n",
       "      <th>CPC</th>\n",
       "      <th>Conversion_Rate</th>\n",
       "      <th>Success</th>\n",
       "    </tr>\n",
       "  </thead>\n",
       "  <tbody>\n",
       "    <tr>\n",
       "      <th>0</th>\n",
       "      <td>CAMP-XAJI0Y</td>\n",
       "      <td>15895</td>\n",
       "      <td>39</td>\n",
       "      <td>Instagram</td>\n",
       "      <td>Video</td>\n",
       "      <td>35-44</td>\n",
       "      <td>Female</td>\n",
       "      <td>US</td>\n",
       "      <td>48297</td>\n",
       "      <td>2116</td>\n",
       "      <td>303.850267</td>\n",
       "      <td>0.329109</td>\n",
       "      <td>4.381225</td>\n",
       "      <td>1</td>\n",
       "    </tr>\n",
       "    <tr>\n",
       "      <th>1</th>\n",
       "      <td>CAMP-6DPBHS</td>\n",
       "      <td>960</td>\n",
       "      <td>8</td>\n",
       "      <td>LinkedIn</td>\n",
       "      <td>Video</td>\n",
       "      <td>45-54</td>\n",
       "      <td>Female</td>\n",
       "      <td>UK</td>\n",
       "      <td>15097</td>\n",
       "      <td>2340</td>\n",
       "      <td>1572.604167</td>\n",
       "      <td>0.063589</td>\n",
       "      <td>15.499768</td>\n",
       "      <td>1</td>\n",
       "    </tr>\n",
       "    <tr>\n",
       "      <th>2</th>\n",
       "      <td>CAMP-AHXTHV</td>\n",
       "      <td>38258</td>\n",
       "      <td>54</td>\n",
       "      <td>YouTube</td>\n",
       "      <td>Image</td>\n",
       "      <td>35-44</td>\n",
       "      <td>All</td>\n",
       "      <td>US</td>\n",
       "      <td>8134</td>\n",
       "      <td>2740</td>\n",
       "      <td>21.260913</td>\n",
       "      <td>4.703467</td>\n",
       "      <td>33.685763</td>\n",
       "      <td>1</td>\n",
       "    </tr>\n",
       "    <tr>\n",
       "      <th>3</th>\n",
       "      <td>CAMP-3A3ZMF</td>\n",
       "      <td>44832</td>\n",
       "      <td>28</td>\n",
       "      <td>Facebook</td>\n",
       "      <td>Text</td>\n",
       "      <td>25-34</td>\n",
       "      <td>Female</td>\n",
       "      <td>US</td>\n",
       "      <td>21801</td>\n",
       "      <td>4277</td>\n",
       "      <td>48.628212</td>\n",
       "      <td>2.056419</td>\n",
       "      <td>19.618366</td>\n",
       "      <td>1</td>\n",
       "    </tr>\n",
       "    <tr>\n",
       "      <th>4</th>\n",
       "      <td>CAMP-8MDD4V</td>\n",
       "      <td>11384</td>\n",
       "      <td>36</td>\n",
       "      <td>Google</td>\n",
       "      <td>Story</td>\n",
       "      <td>18-24</td>\n",
       "      <td>All</td>\n",
       "      <td>UK</td>\n",
       "      <td>16503</td>\n",
       "      <td>1488</td>\n",
       "      <td>144.966620</td>\n",
       "      <td>0.689814</td>\n",
       "      <td>9.016542</td>\n",
       "      <td>1</td>\n",
       "    </tr>\n",
       "  </tbody>\n",
       "</table>\n",
       "</div>"
      ],
      "text/plain": [
       "   Campaign_ID  Budget  Duration   Platform Content_Type Target_Age  \\\n",
       "0  CAMP-XAJI0Y   15895        39  Instagram        Video      35-44   \n",
       "1  CAMP-6DPBHS     960         8   LinkedIn        Video      45-54   \n",
       "2  CAMP-AHXTHV   38258        54    YouTube        Image      35-44   \n",
       "3  CAMP-3A3ZMF   44832        28   Facebook         Text      25-34   \n",
       "4  CAMP-8MDD4V   11384        36     Google        Story      18-24   \n",
       "\n",
       "  Target_Gender Region  Clicks  Conversions          CTR       CPC  \\\n",
       "0        Female     US   48297         2116   303.850267  0.329109   \n",
       "1        Female     UK   15097         2340  1572.604167  0.063589   \n",
       "2           All     US    8134         2740    21.260913  4.703467   \n",
       "3        Female     US   21801         4277    48.628212  2.056419   \n",
       "4           All     UK   16503         1488   144.966620  0.689814   \n",
       "\n",
       "   Conversion_Rate  Success  \n",
       "0         4.381225        1  \n",
       "1        15.499768        1  \n",
       "2        33.685763        1  \n",
       "3        19.618366        1  \n",
       "4         9.016542        1  "
      ]
     },
     "metadata": {},
     "output_type": "display_data"
    }
   ],
   "source": [
    "campaign = pd.read_csv('ad_campaign_performance.csv')\n",
    "display(campaign.head())"
   ]
  },
  {
   "cell_type": "markdown",
   "id": "f949851a-3f77-4277-b4a4-c1d5e4ffcc11",
   "metadata": {},
   "source": [
    "The data looks neat and tidy and I can't find any problems with the column names that might make them annoying to work with in the future. As such lets move on to looking for missing/misinputed data:"
   ]
  },
  {
   "cell_type": "markdown",
   "id": "df8c874d-1418-4aa4-bdf0-a087b073c71f",
   "metadata": {},
   "source": [
    "Lets check the datatypes to see if the panda library interpreted whether they were a string, int, etc:"
   ]
  },
  {
   "cell_type": "code",
   "execution_count": 19,
   "id": "80566fd1-0ba0-42da-a952-7c04316fc2ff",
   "metadata": {},
   "outputs": [
    {
     "data": {
      "text/plain": [
       "Campaign_ID         object\n",
       "Budget               int64\n",
       "Duration             int64\n",
       "Platform            object\n",
       "Content_Type        object\n",
       "Target_Age          object\n",
       "Target_Gender       object\n",
       "Region              object\n",
       "Clicks               int64\n",
       "Conversions          int64\n",
       "CTR                float64\n",
       "CPC                float64\n",
       "Conversion_Rate    float64\n",
       "Success              int64\n",
       "dtype: object"
      ]
     },
     "metadata": {},
     "output_type": "display_data"
    }
   ],
   "source": [
    "display(campaign.dtypes)"
   ]
  },
  {
   "cell_type": "markdown",
   "id": "ba3bcf2a-6708-4302-9cce-c30cd0b39f17",
   "metadata": {},
   "source": [
    "Everything seems to be in the correct datatypes meaning there is most likely no misinputed data!"
   ]
  },
  {
   "cell_type": "markdown",
   "id": "d2cb99f4-b42c-4dd7-90d1-5c89c82dd415",
   "metadata": {},
   "source": [
    "Just to make sure lets change any of the columns that are object datatypes that could be strings:"
   ]
  },
  {
   "cell_type": "code",
   "execution_count": 22,
   "id": "6a73d8bb-c33e-4d83-9baa-5c44527ff446",
   "metadata": {},
   "outputs": [
    {
     "data": {
      "text/plain": [
       "Campaign_ID                object\n",
       "Budget                      int64\n",
       "Duration                    int64\n",
       "Platform           string[python]\n",
       "Content_Type       string[python]\n",
       "Target_Age                 object\n",
       "Target_Gender      string[python]\n",
       "Region             string[python]\n",
       "Clicks                      int64\n",
       "Conversions                 int64\n",
       "CTR                       float64\n",
       "CPC                       float64\n",
       "Conversion_Rate           float64\n",
       "Success                     int64\n",
       "dtype: object"
      ]
     },
     "metadata": {},
     "output_type": "display_data"
    }
   ],
   "source": [
    "campaign['Region'] = campaign.Region.astype('string')\n",
    "campaign['Target_Gender'] = campaign['Target_Gender'].astype('string')\n",
    "campaign['Content_Type'] = campaign['Content_Type'].astype('string')\n",
    "campaign['Platform'] = campaign.Platform.astype('string')\n",
    "display(campaign.dtypes)"
   ]
  },
  {
   "cell_type": "markdown",
   "id": "77e8a07d-7c60-42ad-bd8e-be4cfcd60542",
   "metadata": {},
   "source": [
    "Perfect! There were no errors when attempting to change the datatypes meaning there were no misinputed values. "
   ]
  },
  {
   "cell_type": "markdown",
   "id": "8fd395c8-33bc-46c0-9dbf-e8e416f4a99f",
   "metadata": {},
   "source": [
    "Next lets check to see if there are any null values to conclude our clean & validation:"
   ]
  },
  {
   "cell_type": "code",
   "execution_count": 25,
   "id": "381d8d0c-7622-4be3-b7fc-996fb6e478af",
   "metadata": {},
   "outputs": [
    {
     "name": "stdout",
     "output_type": "stream",
     "text": [
      "<class 'pandas.core.frame.DataFrame'>\n",
      "RangeIndex: 1000 entries, 0 to 999\n",
      "Data columns (total 14 columns):\n",
      " #   Column           Non-Null Count  Dtype  \n",
      "---  ------           --------------  -----  \n",
      " 0   Campaign_ID      1000 non-null   object \n",
      " 1   Budget           1000 non-null   int64  \n",
      " 2   Duration         1000 non-null   int64  \n",
      " 3   Platform         1000 non-null   string \n",
      " 4   Content_Type     1000 non-null   string \n",
      " 5   Target_Age       1000 non-null   object \n",
      " 6   Target_Gender    1000 non-null   string \n",
      " 7   Region           1000 non-null   string \n",
      " 8   Clicks           1000 non-null   int64  \n",
      " 9   Conversions      1000 non-null   int64  \n",
      " 10  CTR              1000 non-null   float64\n",
      " 11  CPC              1000 non-null   float64\n",
      " 12  Conversion_Rate  1000 non-null   float64\n",
      " 13  Success          1000 non-null   int64  \n",
      "dtypes: float64(3), int64(5), object(2), string(4)\n",
      "memory usage: 109.5+ KB\n"
     ]
    },
    {
     "data": {
      "text/plain": [
       "None"
      ]
     },
     "metadata": {},
     "output_type": "display_data"
    }
   ],
   "source": [
    "display(campaign.info())"
   ]
  },
  {
   "cell_type": "markdown",
   "id": "65bf3e9f-b09f-40e4-ba00-c7f93f7713c9",
   "metadata": {},
   "source": [
    "There are no null values that we could find so we will move onto gathering our conclusions!"
   ]
  },
  {
   "cell_type": "markdown",
   "id": "74426279-9d5a-4095-b4ac-1423977b9914",
   "metadata": {},
   "source": [
    "# <mark> Distribution of the Dataset </mark> "
   ]
  },
  {
   "cell_type": "markdown",
   "id": "c617536a-2799-40f4-802c-bde4f947830e",
   "metadata": {},
   "source": [
    "In this section we are going to take a look into how the information in the dataset is distributed. For example, are more campaigns targeted at males, females, or both? Or maybe what seems to be the platform marketers use more?"
   ]
  },
  {
   "cell_type": "markdown",
   "id": "3d9f0304-8d14-4a5c-85b3-0f7c70a209e1",
   "metadata": {},
   "source": [
    "First lets start with a simple one, lets create a graph to checkout the **distribution of what sex the campaigns are targeted towards**:"
   ]
  },
  {
   "cell_type": "code",
   "execution_count": 30,
   "id": "4aacda12-2f24-47c8-8703-8f2514ff19b7",
   "metadata": {},
   "outputs": [
    {
     "data": {
      "image/png": "[encoded data removed]",
      "text/plain": [
       "<Figure size 640x480 with 1 Axes>"
      ]
     },
     "metadata": {},
     "output_type": "display_data"
    },
    {
     "name": "stdout",
     "output_type": "stream",
     "text": [
      "\n"
     ]
    },
    {
     "data": {
      "text/plain": [
       "Target_Gender\n",
       "All       346\n",
       "Female    337\n",
       "Male      317\n",
       "Name: count, dtype: Int64"
      ]
     },
     "metadata": {},
     "output_type": "display_data"
    },
    {
     "data": {
      "text/plain": [
       "<Figure size 640x480 with 0 Axes>"
      ]
     },
     "metadata": {},
     "output_type": "display_data"
    }
   ],
   "source": [
    "sns.countplot(data=campaign, x='Target_Gender')\n",
    "plt.xlabel('Targeted Gender (Campaigns)')\n",
    "plt.ylabel('Amount')\n",
    "plt.show()\n",
    "plt.clf()\n",
    "print('')\n",
    "display(campaign['Target_Gender'].value_counts())"
   ]
  },
  {
   "cell_type": "markdown",
   "id": "3802ec95-7fe4-4586-8e3d-d31be966c19b",
   "metadata": {},
   "source": [
    "We can see that the campaigns are distributed relatively evenly with more campaigns being targeted at Females or both genders."
   ]
  },
  {
   "cell_type": "markdown",
   "id": "8f5bd5fa-7468-4810-a480-1d128a58bef7",
   "metadata": {},
   "source": [
    "Next lets take a look at the **distribution of targeted age groups**:"
   ]
  },
  {
   "cell_type": "code",
   "execution_count": 33,
   "id": "ab04d30d-13d3-4d18-94f3-6ff418281cbc",
   "metadata": {},
   "outputs": [
    {
     "data": {
      "image/png": "[encoded data removed]",
      "text/plain": [
       "<Figure size 640x480 with 1 Axes>"
      ]
     },
     "metadata": {},
     "output_type": "display_data"
    },
    {
     "name": "stdout",
     "output_type": "stream",
     "text": [
      "\n"
     ]
    },
    {
     "data": {
      "text/plain": [
       "Target_Age\n",
       "35-44    217\n",
       "55+      205\n",
       "18-24    202\n",
       "25-34    192\n",
       "45-54    184\n",
       "Name: count, dtype: int64"
      ]
     },
     "metadata": {},
     "output_type": "display_data"
    },
    {
     "data": {
      "text/plain": [
       "<Figure size 640x480 with 0 Axes>"
      ]
     },
     "metadata": {},
     "output_type": "display_data"
    }
   ],
   "source": [
    "sns.countplot(data=campaign, x='Target_Age')\n",
    "plt.xlabel('Targeted Age Group (Campaigns)')\n",
    "plt.ylabel('Amount')\n",
    "plt.show()\n",
    "plt.clf()\n",
    "print('')\n",
    "display(campaign['Target_Age'].value_counts())"
   ]
  },
  {
   "cell_type": "markdown",
   "id": "e354937d-f98d-4236-aefd-df1bcbe788ec",
   "metadata": {},
   "source": [
    "Once again the distribution is fairly even across all age groups with the age of 35 - 44 being the main target (Suprising, thought it would be younger audiences)"
   ]
  },
  {
   "cell_type": "markdown",
   "id": "72c1937b-fd3f-4faf-82c3-4dbfb52c4058",
   "metadata": {},
   "source": [
    "Next lets take a look at the **distribution of the regions**:"
   ]
  },
  {
   "cell_type": "code",
   "execution_count": 36,
   "id": "9da9b550-5410-4d8b-bca2-4917b8a3c526",
   "metadata": {},
   "outputs": [
    {
     "data": {
      "image/png": "[encoded data removed]",
      "text/plain": [
       "<Figure size 640x480 with 1 Axes>"
      ]
     },
     "metadata": {},
     "output_type": "display_data"
    },
    {
     "name": "stdout",
     "output_type": "stream",
     "text": [
      "\n"
     ]
    },
    {
     "data": {
      "text/plain": [
       "Region\n",
       "UK         224\n",
       "US         204\n",
       "Germany    197\n",
       "India      189\n",
       "Canada     186\n",
       "Name: count, dtype: Int64"
      ]
     },
     "metadata": {},
     "output_type": "display_data"
    },
    {
     "data": {
      "text/plain": [
       "<Figure size 640x480 with 0 Axes>"
      ]
     },
     "metadata": {},
     "output_type": "display_data"
    }
   ],
   "source": [
    "sns.countplot(data=campaign, x='Region')\n",
    "plt.xlabel('Targeted Region (Campaigns)')\n",
    "plt.ylabel('Amount')\n",
    "plt.show()\n",
    "plt.clf()\n",
    "print('')\n",
    "display(campaign['Region'].value_counts())"
   ]
  },
  {
   "cell_type": "markdown",
   "id": "91f83621-3f28-4092-a99b-fef2b283644c",
   "metadata": {},
   "source": [
    "The data is less evenly distributed compared to the previous columns, however it is still distributed quite evenly with UK being the main targeted region!"
   ]
  },
  {
   "cell_type": "markdown",
   "id": "2bcaecf0-93f1-4b18-86e8-f4c2aea4fd88",
   "metadata": {},
   "source": [
    "Next is the **distribution of the platform used** (Hopefully this gives us a slight insight into what platform marketers prefer for campaigns?):"
   ]
  },
  {
   "cell_type": "code",
   "execution_count": 39,
   "id": "c96adc80-e6b3-4bf6-98ff-6d864d4b78c0",
   "metadata": {},
   "outputs": [
    {
     "data": {
      "image/png": "[encoded data removed]",
      "text/plain": [
       "<Figure size 640x480 with 1 Axes>"
      ]
     },
     "metadata": {},
     "output_type": "display_data"
    },
    {
     "name": "stdout",
     "output_type": "stream",
     "text": [
      "\n"
     ]
    },
    {
     "data": {
      "text/plain": [
       "Platform\n",
       "YouTube      226\n",
       "LinkedIn     209\n",
       "Instagram    202\n",
       "Facebook     193\n",
       "Google       170\n",
       "Name: count, dtype: Int64"
      ]
     },
     "metadata": {},
     "output_type": "display_data"
    },
    {
     "data": {
      "text/plain": [
       "<Figure size 640x480 with 0 Axes>"
      ]
     },
     "metadata": {},
     "output_type": "display_data"
    }
   ],
   "source": [
    "sns.countplot(data=campaign, x='Platform')\n",
    "plt.xlabel('Platform')\n",
    "plt.ylabel('Amount')\n",
    "plt.show()\n",
    "plt.clf()\n",
    "print('')\n",
    "display(campaign['Platform'].value_counts())"
   ]
  },
  {
   "cell_type": "markdown",
   "id": "c800cb9b-b430-422a-a078-f200e6e2b91e",
   "metadata": {},
   "source": [
    "Marketers seem to prefer Youtube over the other platforms which makes me wonder which one actually produces the most results? (Is google really that bad i wonder?)"
   ]
  },
  {
   "cell_type": "markdown",
   "id": "13223aa3-ef13-490d-8b95-238e4af8a149",
   "metadata": {},
   "source": [
    "Lastly, whats the **distribution of the content type**?"
   ]
  },
  {
   "cell_type": "code",
   "execution_count": 42,
   "id": "d69e893d-138a-416e-9bc9-50a11267f253",
   "metadata": {},
   "outputs": [
    {
     "data": {
      "image/png": "[encoded data removed]",
      "text/plain": [
       "<Figure size 640x480 with 1 Axes>"
      ]
     },
     "metadata": {},
     "output_type": "display_data"
    },
    {
     "name": "stdout",
     "output_type": "stream",
     "text": [
      "\n"
     ]
    },
    {
     "data": {
      "text/plain": [
       "Content_Type\n",
       "Story       213\n",
       "Image       210\n",
       "Carousel    202\n",
       "Text        200\n",
       "Video       175\n",
       "Name: count, dtype: Int64"
      ]
     },
     "metadata": {},
     "output_type": "display_data"
    },
    {
     "data": {
      "text/plain": [
       "<Figure size 640x480 with 0 Axes>"
      ]
     },
     "metadata": {},
     "output_type": "display_data"
    }
   ],
   "source": [
    "sns.countplot(data=campaign, x='Content_Type')\n",
    "plt.xlabel('Content Type')\n",
    "plt.ylabel('Amount')\n",
    "plt.show()\n",
    "plt.clf()\n",
    "print('')\n",
    "display(campaign['Content_Type'].value_counts())"
   ]
  },
  {
   "cell_type": "markdown",
   "id": "9416ce22-3e65-47f5-ba93-6d5ece351231",
   "metadata": {},
   "source": [
    "I would've thought that it would be videos! But I was completely wrong (probably why I'm not a marketer!), stories seem to be the prefered way of advertising a campaign which is extremely interesting since I would think that most people would just skip past a story?"
   ]
  },
  {
   "cell_type": "markdown",
   "id": "f0fe2010-3afc-481b-a514-7e58bb595c85",
   "metadata": {},
   "source": [
    "# <mark> Gaining Conclusions & Insights </mark> "
   ]
  },
  {
   "cell_type": "markdown",
   "id": "288a9269-8757-4a25-954d-86bc7b37a6af",
   "metadata": {},
   "source": [
    "At last we reach the most interesting (and hopefully helpful) part of this project, the answers to the questions!"
   ]
  },
  {
   "cell_type": "markdown",
   "id": "9e07c10d-c636-4be7-ad88-7b577849e92a",
   "metadata": {},
   "source": [
    "## <mark> Question 1: What platform produces the best results? </mark> "
   ]
  },
  {
   "cell_type": "markdown",
   "id": "9ecef091-7956-4ba1-9e1f-fc88063290d1",
   "metadata": {},
   "source": [
    "We can find the answer to this question relatively simpily (For me atleast), we just need to compare the average conversion rates for each platform."
   ]
  },
  {
   "cell_type": "markdown",
   "id": "5b065486-693a-498b-8835-4e29dd3a9fd4",
   "metadata": {},
   "source": [
    "First lets create a new dataframe containing the data we need:"
   ]
  },
  {
   "cell_type": "code",
   "execution_count": 49,
   "id": "7dbfda79-0d67-47b8-8830-722209a346be",
   "metadata": {},
   "outputs": [
    {
     "data": {
      "text/html": [
       "<div>\n",
       "<style scoped>\n",
       "    .dataframe tbody tr th:only-of-type {\n",
       "        vertical-align: middle;\n",
       "    }\n",
       "\n",
       "    .dataframe tbody tr th {\n",
       "        vertical-align: top;\n",
       "    }\n",
       "\n",
       "    .dataframe thead th {\n",
       "        text-align: right;\n",
       "    }\n",
       "</style>\n",
       "<table border=\"1\" class=\"dataframe\">\n",
       "  <thead>\n",
       "    <tr style=\"text-align: right;\">\n",
       "      <th></th>\n",
       "      <th>Platform</th>\n",
       "      <th>Conversion_Rate</th>\n",
       "    </tr>\n",
       "  </thead>\n",
       "  <tbody>\n",
       "    <tr>\n",
       "      <th>0</th>\n",
       "      <td>Instagram</td>\n",
       "      <td>4.381225</td>\n",
       "    </tr>\n",
       "    <tr>\n",
       "      <th>1</th>\n",
       "      <td>LinkedIn</td>\n",
       "      <td>15.499768</td>\n",
       "    </tr>\n",
       "    <tr>\n",
       "      <th>2</th>\n",
       "      <td>YouTube</td>\n",
       "      <td>33.685763</td>\n",
       "    </tr>\n",
       "    <tr>\n",
       "      <th>3</th>\n",
       "      <td>Facebook</td>\n",
       "      <td>19.618366</td>\n",
       "    </tr>\n",
       "    <tr>\n",
       "      <th>4</th>\n",
       "      <td>Google</td>\n",
       "      <td>9.016542</td>\n",
       "    </tr>\n",
       "    <tr>\n",
       "      <th>5</th>\n",
       "      <td>LinkedIn</td>\n",
       "      <td>7.653011</td>\n",
       "    </tr>\n",
       "  </tbody>\n",
       "</table>\n",
       "</div>"
      ],
      "text/plain": [
       "    Platform  Conversion_Rate\n",
       "0  Instagram         4.381225\n",
       "1   LinkedIn        15.499768\n",
       "2    YouTube        33.685763\n",
       "3   Facebook        19.618366\n",
       "4     Google         9.016542\n",
       "5   LinkedIn         7.653011"
      ]
     },
     "metadata": {},
     "output_type": "display_data"
    }
   ],
   "source": [
    "best_platform = campaign[['Platform','Conversion_Rate']]\n",
    "display(best_platform.head(6))"
   ]
  },
  {
   "cell_type": "markdown",
   "id": "adefca08-d9df-4443-a1bc-1689804e9f5e",
   "metadata": {},
   "source": [
    "Next lets organize our data by, 1. Combining the double-ups of the platforms and 2. Gathering the average of those double-ups:"
   ]
  },
  {
   "cell_type": "code",
   "execution_count": 51,
   "id": "1062e941-9944-4bf4-817e-e1030db543c6",
   "metadata": {},
   "outputs": [
    {
     "data": {
      "text/html": [
       "<div>\n",
       "<style scoped>\n",
       "    .dataframe tbody tr th:only-of-type {\n",
       "        vertical-align: middle;\n",
       "    }\n",
       "\n",
       "    .dataframe tbody tr th {\n",
       "        vertical-align: top;\n",
       "    }\n",
       "\n",
       "    .dataframe thead th {\n",
       "        text-align: right;\n",
       "    }\n",
       "</style>\n",
       "<table border=\"1\" class=\"dataframe\">\n",
       "  <thead>\n",
       "    <tr style=\"text-align: right;\">\n",
       "      <th></th>\n",
       "      <th>Conversion_Rate</th>\n",
       "    </tr>\n",
       "    <tr>\n",
       "      <th>Platform</th>\n",
       "      <th></th>\n",
       "    </tr>\n",
       "  </thead>\n",
       "  <tbody>\n",
       "    <tr>\n",
       "      <th>Facebook</th>\n",
       "      <td>18.927101</td>\n",
       "    </tr>\n",
       "    <tr>\n",
       "      <th>Google</th>\n",
       "      <td>21.823443</td>\n",
       "    </tr>\n",
       "    <tr>\n",
       "      <th>Instagram</th>\n",
       "      <td>20.753952</td>\n",
       "    </tr>\n",
       "    <tr>\n",
       "      <th>LinkedIn</th>\n",
       "      <td>31.435274</td>\n",
       "    </tr>\n",
       "    <tr>\n",
       "      <th>YouTube</th>\n",
       "      <td>38.636276</td>\n",
       "    </tr>\n",
       "  </tbody>\n",
       "</table>\n",
       "</div>"
      ],
      "text/plain": [
       "           Conversion_Rate\n",
       "Platform                  \n",
       "Facebook         18.927101\n",
       "Google           21.823443\n",
       "Instagram        20.753952\n",
       "LinkedIn         31.435274\n",
       "YouTube          38.636276"
      ]
     },
     "metadata": {},
     "output_type": "display_data"
    }
   ],
   "source": [
    "best_platform = best_platform.groupby('Platform').mean()\n",
    "display(best_platform)"
   ]
  },
  {
   "cell_type": "markdown",
   "id": "c577e389-aa50-4343-9519-f7c16c5d620d",
   "metadata": {},
   "source": [
    "Now that our data is prepared and we can see the conversion rates for each platform lets convert it into a graph so we can visually see the difference in values!"
   ]
  },
  {
   "cell_type": "code",
   "execution_count": 53,
   "id": "b74395c0-3afd-4f6c-b2c6-095d1729023f",
   "metadata": {},
   "outputs": [
    {
     "data": {
      "image/png": "[encoded data removed]",
      "text/plain": [
       "<Figure size 640x480 with 1 Axes>"
      ]
     },
     "metadata": {},
     "output_type": "display_data"
    },
    {
     "data": {
      "text/plain": [
       "<Figure size 640x480 with 0 Axes>"
      ]
     },
     "metadata": {},
     "output_type": "display_data"
    }
   ],
   "source": [
    "sns.barplot(data=best_platform,x='Platform', y='Conversion_Rate')\n",
    "plt.xlabel('Platform')\n",
    "plt.ylabel('Conversion Rate')\n",
    "plt.show()\n",
    "plt.clf()"
   ]
  },
  {
   "cell_type": "markdown",
   "id": "39db34b0-5841-4d2b-b532-54185ab06e2f",
   "metadata": {},
   "source": [
    "Here we can see clearly that youtube produced the best results, it now makes sense why marketers liked investing in YouTube so much! "
   ]
  },
  {
   "cell_type": "markdown",
   "id": "ae7c7f23-a9b6-4585-bc29-7661e1ceaf5f",
   "metadata": {},
   "source": [
    "However, the marketers decided to invest more into Instagram and Facebook compared to google even though google had produced better results."
   ]
  },
  {
   "cell_type": "markdown",
   "id": "4827d9c6-20fe-42ae-ac30-85a4a534c47e",
   "metadata": {},
   "source": [
    "## <mark> Question 2: What Content Type produced better results? </mark> (E.g. Video)"
   ]
  },
  {
   "cell_type": "markdown",
   "id": "941a647b-5540-4f19-8d90-959e90a1b9d7",
   "metadata": {},
   "source": [
    "Just like the previous question we need to start by creating a new dataframe:"
   ]
  },
  {
   "cell_type": "code",
   "execution_count": 58,
   "id": "70c4b19f-13d1-4cd9-b684-22f067043a52",
   "metadata": {},
   "outputs": [
    {
     "data": {
      "text/html": [
       "<div>\n",
       "<style scoped>\n",
       "    .dataframe tbody tr th:only-of-type {\n",
       "        vertical-align: middle;\n",
       "    }\n",
       "\n",
       "    .dataframe tbody tr th {\n",
       "        vertical-align: top;\n",
       "    }\n",
       "\n",
       "    .dataframe thead th {\n",
       "        text-align: right;\n",
       "    }\n",
       "</style>\n",
       "<table border=\"1\" class=\"dataframe\">\n",
       "  <thead>\n",
       "    <tr style=\"text-align: right;\">\n",
       "      <th></th>\n",
       "      <th>Content_Type</th>\n",
       "      <th>Conversion_Rate</th>\n",
       "    </tr>\n",
       "  </thead>\n",
       "  <tbody>\n",
       "    <tr>\n",
       "      <th>0</th>\n",
       "      <td>Video</td>\n",
       "      <td>4.381225</td>\n",
       "    </tr>\n",
       "    <tr>\n",
       "      <th>1</th>\n",
       "      <td>Video</td>\n",
       "      <td>15.499768</td>\n",
       "    </tr>\n",
       "    <tr>\n",
       "      <th>2</th>\n",
       "      <td>Image</td>\n",
       "      <td>33.685763</td>\n",
       "    </tr>\n",
       "    <tr>\n",
       "      <th>3</th>\n",
       "      <td>Text</td>\n",
       "      <td>19.618366</td>\n",
       "    </tr>\n",
       "    <tr>\n",
       "      <th>4</th>\n",
       "      <td>Story</td>\n",
       "      <td>9.016542</td>\n",
       "    </tr>\n",
       "  </tbody>\n",
       "</table>\n",
       "</div>"
      ],
      "text/plain": [
       "  Content_Type  Conversion_Rate\n",
       "0        Video         4.381225\n",
       "1        Video        15.499768\n",
       "2        Image        33.685763\n",
       "3         Text        19.618366\n",
       "4        Story         9.016542"
      ]
     },
     "metadata": {},
     "output_type": "display_data"
    }
   ],
   "source": [
    "best_content = campaign[['Content_Type','Conversion_Rate']]\n",
    "display(best_content.head())"
   ]
  },
  {
   "cell_type": "markdown",
   "id": "d1cc7885-befa-47cd-905e-b9789e15f4a9",
   "metadata": {},
   "source": [
    "Now that we have selected the two columns that we require lets begin by adding the average conversion rate of all the content type double ups:"
   ]
  },
  {
   "cell_type": "code",
   "execution_count": 60,
   "id": "c00a8f2d-6121-4888-b789-dc8132367c06",
   "metadata": {},
   "outputs": [
    {
     "data": {
      "text/html": [
       "<div>\n",
       "<style scoped>\n",
       "    .dataframe tbody tr th:only-of-type {\n",
       "        vertical-align: middle;\n",
       "    }\n",
       "\n",
       "    .dataframe tbody tr th {\n",
       "        vertical-align: top;\n",
       "    }\n",
       "\n",
       "    .dataframe thead th {\n",
       "        text-align: right;\n",
       "    }\n",
       "</style>\n",
       "<table border=\"1\" class=\"dataframe\">\n",
       "  <thead>\n",
       "    <tr style=\"text-align: right;\">\n",
       "      <th></th>\n",
       "      <th>Conversion_Rate</th>\n",
       "    </tr>\n",
       "    <tr>\n",
       "      <th>Content_Type</th>\n",
       "      <th></th>\n",
       "    </tr>\n",
       "  </thead>\n",
       "  <tbody>\n",
       "    <tr>\n",
       "      <th>Carousel</th>\n",
       "      <td>15.371897</td>\n",
       "    </tr>\n",
       "    <tr>\n",
       "      <th>Image</th>\n",
       "      <td>31.276156</td>\n",
       "    </tr>\n",
       "    <tr>\n",
       "      <th>Story</th>\n",
       "      <td>34.399185</td>\n",
       "    </tr>\n",
       "    <tr>\n",
       "      <th>Text</th>\n",
       "      <td>33.294561</td>\n",
       "    </tr>\n",
       "    <tr>\n",
       "      <th>Video</th>\n",
       "      <td>18.273886</td>\n",
       "    </tr>\n",
       "  </tbody>\n",
       "</table>\n",
       "</div>"
      ],
      "text/plain": [
       "              Conversion_Rate\n",
       "Content_Type                 \n",
       "Carousel            15.371897\n",
       "Image               31.276156\n",
       "Story               34.399185\n",
       "Text                33.294561\n",
       "Video               18.273886"
      ]
     },
     "metadata": {},
     "output_type": "display_data"
    }
   ],
   "source": [
    "best_content = best_content.groupby('Content_Type').mean()\n",
    "display(best_content)"
   ]
  },
  {
   "cell_type": "markdown",
   "id": "010ae56b-ad62-4583-a9f5-d5c610c2e3be",
   "metadata": {},
   "source": [
    "Sweet! We can now see the difference in conversion rate for all of the different content types, lets create a graph to visualize these values easier:"
   ]
  },
  {
   "cell_type": "code",
   "execution_count": 62,
   "id": "a87cb111-fbfa-4521-a0d0-52fff28d500f",
   "metadata": {},
   "outputs": [
    {
     "data": {
      "image/png": "[encoded data removed]",
      "text/plain": [
       "<Figure size 640x480 with 1 Axes>"
      ]
     },
     "metadata": {},
     "output_type": "display_data"
    },
    {
     "data": {
      "text/plain": [
       "<Figure size 640x480 with 0 Axes>"
      ]
     },
     "metadata": {},
     "output_type": "display_data"
    }
   ],
   "source": [
    "sns.barplot(data=best_content, x='Content_Type', y='Conversion_Rate')\n",
    "plt.xlabel('Content Type')\n",
    "plt.ylabel('Conversion Rate')\n",
    "plt.show()\n",
    "plt.clf()"
   ]
  },
  {
   "cell_type": "markdown",
   "id": "29d000b0-47d1-4a55-ab11-b976ab737a85",
   "metadata": {},
   "source": [
    "The results are very similar to their distribution. However, the marketers produced more campaigns as Carousels compared to Videos even though the videos produced better results!"
   ]
  },
  {
   "cell_type": "markdown",
   "id": "a05544d2-c93d-48f5-bb6f-faef02c4b422",
   "metadata": {},
   "source": [
    "## <mark> Question 3: </mark>Is there a correlation between the duration of the campaign and its results?"
   ]
  },
  {
   "cell_type": "markdown",
   "id": "5649f3d0-ada8-4a36-b7e2-055e898db5e8",
   "metadata": {},
   "source": [
    "To start lets create a new dataframe containing only the duration and conversion rate columns:"
   ]
  },
  {
   "cell_type": "code",
   "execution_count": 66,
   "id": "734c49d9-b058-4890-99a8-cee2d82bfcec",
   "metadata": {},
   "outputs": [
    {
     "data": {
      "text/html": [
       "<div>\n",
       "<style scoped>\n",
       "    .dataframe tbody tr th:only-of-type {\n",
       "        vertical-align: middle;\n",
       "    }\n",
       "\n",
       "    .dataframe tbody tr th {\n",
       "        vertical-align: top;\n",
       "    }\n",
       "\n",
       "    .dataframe thead th {\n",
       "        text-align: right;\n",
       "    }\n",
       "</style>\n",
       "<table border=\"1\" class=\"dataframe\">\n",
       "  <thead>\n",
       "    <tr style=\"text-align: right;\">\n",
       "      <th></th>\n",
       "      <th>Duration</th>\n",
       "      <th>Conversion_Rate</th>\n",
       "    </tr>\n",
       "  </thead>\n",
       "  <tbody>\n",
       "    <tr>\n",
       "      <th>0</th>\n",
       "      <td>39</td>\n",
       "      <td>4.381225</td>\n",
       "    </tr>\n",
       "    <tr>\n",
       "      <th>1</th>\n",
       "      <td>8</td>\n",
       "      <td>15.499768</td>\n",
       "    </tr>\n",
       "    <tr>\n",
       "      <th>2</th>\n",
       "      <td>54</td>\n",
       "      <td>33.685763</td>\n",
       "    </tr>\n",
       "    <tr>\n",
       "      <th>3</th>\n",
       "      <td>28</td>\n",
       "      <td>19.618366</td>\n",
       "    </tr>\n",
       "    <tr>\n",
       "      <th>4</th>\n",
       "      <td>36</td>\n",
       "      <td>9.016542</td>\n",
       "    </tr>\n",
       "  </tbody>\n",
       "</table>\n",
       "</div>"
      ],
      "text/plain": [
       "   Duration  Conversion_Rate\n",
       "0        39         4.381225\n",
       "1         8        15.499768\n",
       "2        54        33.685763\n",
       "3        28        19.618366\n",
       "4        36         9.016542"
      ]
     },
     "metadata": {},
     "output_type": "display_data"
    }
   ],
   "source": [
    "correlation_duration = campaign[['Duration','Conversion_Rate']]\n",
    "display(correlation_duration.head())"
   ]
  },
  {
   "cell_type": "markdown",
   "id": "86d82d2b-9d17-4f95-93cb-d4e66ce22a87",
   "metadata": {},
   "source": [
    "Next lets create a scatter plot to visualize all these values and see if we can notice any patterns!"
   ]
  },
  {
   "cell_type": "code",
   "execution_count": 68,
   "id": "fc41734d-65c3-47b3-9686-15056c6863e3",
   "metadata": {},
   "outputs": [
    {
     "data": {
      "image/png": "[encoded data removed]",
      "text/plain": [
       "<Figure size 640x480 with 1 Axes>"
      ]
     },
     "metadata": {},
     "output_type": "display_data"
    },
    {
     "data": {
      "text/plain": [
       "<Figure size 640x480 with 0 Axes>"
      ]
     },
     "metadata": {},
     "output_type": "display_data"
    }
   ],
   "source": [
    "plt.scatter(data=correlation_duration,x='Duration',y='Conversion_Rate')\n",
    "plt.xlabel('Duration (Days)')\n",
    "plt.ylabel('Conversion Rate')\n",
    "plt.show()\n",
    "plt.clf()"
   ]
  },
  {
   "cell_type": "markdown",
   "id": "9b0fd2c5-8b9a-4276-8a53-60c724166ab9",
   "metadata": {},
   "source": [
    "The bulk of the results are towards the bottom meaning there is probably not a large relationship between the two variables, however there are some points where it seems to shoot up (around 30 day mark) meaning there may be a linear association?"
   ]
  },
  {
   "cell_type": "markdown",
   "id": "761ddbe2-38b7-4d25-a4f1-e299480f18c4",
   "metadata": {},
   "source": [
    "Lets find out using pearsons correlation:"
   ]
  },
  {
   "cell_type": "code",
   "execution_count": 71,
   "id": "5d88c73f-caf4-4052-8beb-6f8ea0e67c58",
   "metadata": {},
   "outputs": [
    {
     "data": {
      "text/plain": [
       "-0.020438816822208612"
      ]
     },
     "metadata": {},
     "output_type": "display_data"
    }
   ],
   "source": [
    "from scipy.stats import pearsonr\n",
    "corr_conversion_duration, p = pearsonr(correlation_duration.Duration,correlation_duration.Conversion_Rate)\n",
    "display(corr_conversion_duration)"
   ]
  },
  {
   "cell_type": "markdown",
   "id": "4c7dcfc6-8814-4aad-8186-c2e168635006",
   "metadata": {},
   "source": [
    "There is not a high enough linear association for their to be a correlation between the two varables, perhaps there is a different pattern here (Doesnt seem like it)?"
   ]
  },
  {
   "cell_type": "markdown",
   "id": "722b59d9-4bde-42a1-b499-05bfe2a7f77c",
   "metadata": {},
   "source": [
    "## <mark>Question 4:</mark> Is there a correlation between a campaigns budget and its results?"
   ]
  },
  {
   "cell_type": "markdown",
   "id": "c897e138-4b1c-4e9a-bc0c-eeac7b1d8342",
   "metadata": {},
   "source": [
    "First we can begin by creating a new dataframe containing only the necessary information (Budget, and Conversion_Rate):"
   ]
  },
  {
   "cell_type": "code",
   "execution_count": 75,
   "id": "b8706faa-3d8a-4b3c-aa03-155893a3e253",
   "metadata": {},
   "outputs": [
    {
     "data": {
      "text/html": [
       "<div>\n",
       "<style scoped>\n",
       "    .dataframe tbody tr th:only-of-type {\n",
       "        vertical-align: middle;\n",
       "    }\n",
       "\n",
       "    .dataframe tbody tr th {\n",
       "        vertical-align: top;\n",
       "    }\n",
       "\n",
       "    .dataframe thead th {\n",
       "        text-align: right;\n",
       "    }\n",
       "</style>\n",
       "<table border=\"1\" class=\"dataframe\">\n",
       "  <thead>\n",
       "    <tr style=\"text-align: right;\">\n",
       "      <th></th>\n",
       "      <th>Budget</th>\n",
       "      <th>Conversion_Rate</th>\n",
       "    </tr>\n",
       "  </thead>\n",
       "  <tbody>\n",
       "    <tr>\n",
       "      <th>0</th>\n",
       "      <td>15895</td>\n",
       "      <td>4.381225</td>\n",
       "    </tr>\n",
       "    <tr>\n",
       "      <th>1</th>\n",
       "      <td>960</td>\n",
       "      <td>15.499768</td>\n",
       "    </tr>\n",
       "    <tr>\n",
       "      <th>2</th>\n",
       "      <td>38258</td>\n",
       "      <td>33.685763</td>\n",
       "    </tr>\n",
       "    <tr>\n",
       "      <th>3</th>\n",
       "      <td>44832</td>\n",
       "      <td>19.618366</td>\n",
       "    </tr>\n",
       "    <tr>\n",
       "      <th>4</th>\n",
       "      <td>11384</td>\n",
       "      <td>9.016542</td>\n",
       "    </tr>\n",
       "  </tbody>\n",
       "</table>\n",
       "</div>"
      ],
      "text/plain": [
       "   Budget  Conversion_Rate\n",
       "0   15895         4.381225\n",
       "1     960        15.499768\n",
       "2   38258        33.685763\n",
       "3   44832        19.618366\n",
       "4   11384         9.016542"
      ]
     },
     "metadata": {},
     "output_type": "display_data"
    }
   ],
   "source": [
    "budget_result = campaign[['Budget','Conversion_Rate']]\n",
    "display(budget_result.head())"
   ]
  },
  {
   "cell_type": "markdown",
   "id": "e2a0004c-23b7-4f75-a247-30b08c586344",
   "metadata": {},
   "source": [
    "Next lets create a scatterplot to visualize this data:"
   ]
  },
  {
   "cell_type": "code",
   "execution_count": 102,
   "id": "376bec75-bd53-4eea-88ae-3a83ff9c3a45",
   "metadata": {},
   "outputs": [
    {
     "data": {
      "image/png": "[encoded data removed]",
      "text/plain": [
       "<Figure size 640x480 with 1 Axes>"
      ]
     },
     "metadata": {},
     "output_type": "display_data"
    },
    {
     "data": {
      "text/plain": [
       "<Figure size 640x480 with 0 Axes>"
      ]
     },
     "metadata": {},
     "output_type": "display_data"
    }
   ],
   "source": [
    "plt.scatter(data=budget_result,x='Budget',y='Conversion_Rate')\n",
    "plt.title('Correlation Between a Campaigns Budget and Conversion Rate')\n",
    "plt.xlabel('Budget (USD)')\n",
    "plt.ylabel('Conversion Rate')\n",
    "plt.show()\n",
    "plt.clf()"
   ]
  },
  {
   "cell_type": "markdown",
   "id": "7ae8706c-97b0-4ef1-960a-b0ce713f6cf6",
   "metadata": {},
   "source": [
    "I cant see much of a correlation between the two variables at all, however its probably best that we dig a little deeper to consolidate our insights."
   ]
  },
  {
   "cell_type": "markdown",
   "id": "f5f4e189-bb6c-4b20-8d85-73419c3e636c",
   "metadata": {},
   "source": [
    "Lets check for a linear association between the two variables using pearsons correlation:"
   ]
  },
  {
   "cell_type": "code",
   "execution_count": 110,
   "id": "307b144d-549e-4906-b06d-e5a83e30b8b0",
   "metadata": {},
   "outputs": [
    {
     "data": {
      "text/plain": [
       "0.01903249945869586"
      ]
     },
     "metadata": {},
     "output_type": "display_data"
    }
   ],
   "source": [
    "corr_budget_result, p = pearsonr(budget_result.Budget,budget_result['Conversion_Rate'])\n",
    "display(corr_budget_result)"
   ]
  },
  {
   "cell_type": "markdown",
   "id": "b04a6e95-92b2-4ce1-aae1-89df293d1b07",
   "metadata": {},
   "source": [
    "This aligns with what we saw in the scatter plot before, a pearsons correlation of ~0.02 is nowhere near enough to consider there being a correlation between the two variables."
   ]
  },
  {
   "cell_type": "markdown",
   "id": "f34d2d32-faa0-48e0-b8cf-63bf39794ad5",
   "metadata": {},
   "source": [
    "This tells us that just because you invest more money into a campaign doesnt neccesarily mean you will produce better results!"
   ]
  },
  {
   "cell_type": "markdown",
   "id": "d332a537-d290-4e3d-a4c4-c1d58cbab344",
   "metadata": {},
   "source": [
    "## Question 5:"
   ]
  },
  {
   "cell_type": "code",
   "execution_count": null,
   "id": "1faf49cd-353c-4517-a800-d89f18fcf8fb",
   "metadata": {},
   "outputs": [],
   "source": []
  }
 ],
 "metadata": {
  "kernelspec": {
   "display_name": "Python 3 (ipykernel)",
   "language": "python",
   "name": "python3"
  },
  "language_info": {
   "codemirror_mode": {
    "name": "ipython",
    "version": 3
   },
   "file_extension": ".py",
   "mimetype": "text/x-python",
   "name": "python",
   "nbconvert_exporter": "python",
   "pygments_lexer": "ipython3",
   "version": "3.12.4"
  }
 },
 "nbformat": 4,
 "nbformat_minor": 5
}
